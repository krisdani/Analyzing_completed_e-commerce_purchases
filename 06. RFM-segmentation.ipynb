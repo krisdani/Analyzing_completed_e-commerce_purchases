{
 "cells": [
  {
   "cell_type": "markdown",
   "id": "32b6ad73",
   "metadata": {},
   "source": [
    "## Часто для качественного анализа аудитории используют подходы, основанные на сегментации. Используя python, нужно построить RFM-сегментацию пользователей, чтобы качественно оценить свою аудиторию. В кластеризации нужно выбрать следующие метрики: \n",
    "\n",
    "R - время от последней покупки пользователя до текущей даты, F - суммарное количество покупок у пользователя за всё время,\n",
    "\n",
    "M - сумма покупок за всё время. Подробно опишу, как я создавала кластеры. \n",
    "\n",
    "Для каждого RFM-сегмента построю границы метрик recency, frequency и monetary для интерпретации этих кластеров. \n",
    "\n",
    "Пример такого описания: RFM-сегмент 132 (recency=1, frequency=3, monetary=2) имеет границы метрик recency от 130 до 500 дней, \n",
    "frequency от 2 до 5 заказов в неделю, monetary от 1780 до 3560 рублей в неделю."
   ]
  },
  {
   "cell_type": "code",
   "execution_count": 39,
   "id": "b4649568",
   "metadata": {},
   "outputs": [],
   "source": [
    "# объединяю таблицы\n",
    "\n",
    "df = pd.merge(olist_customers, olist_orders, on='customer_id')\n",
    "olist_rfm = pd.merge(df, olist_items, on='order_id')"
   ]
  },
  {
   "cell_type": "code",
   "execution_count": 40,
   "id": "b159e29c",
   "metadata": {},
   "outputs": [
    {
     "data": {
      "text/html": [
       "<div>\n",
       "<style scoped>\n",
       "    .dataframe tbody tr th:only-of-type {\n",
       "        vertical-align: middle;\n",
       "    }\n",
       "\n",
       "    .dataframe tbody tr th {\n",
       "        vertical-align: top;\n",
       "    }\n",
       "\n",
       "    .dataframe thead th {\n",
       "        text-align: right;\n",
       "    }\n",
       "</style>\n",
       "<table border=\"1\" class=\"dataframe\">\n",
       "  <thead>\n",
       "    <tr style=\"text-align: right;\">\n",
       "      <th></th>\n",
       "      <th>customer_unique_id</th>\n",
       "      <th>order_id</th>\n",
       "      <th>order_purchase_timestamp</th>\n",
       "      <th>price</th>\n",
       "    </tr>\n",
       "  </thead>\n",
       "  <tbody>\n",
       "    <tr>\n",
       "      <th>0</th>\n",
       "      <td>861eff4711a542e4b93843c6dd7febb0</td>\n",
       "      <td>00e7ee1b050b8499577073aeb2a297a1</td>\n",
       "      <td>2017-05-16 15:05:35</td>\n",
       "      <td>124.99</td>\n",
       "    </tr>\n",
       "    <tr>\n",
       "      <th>1</th>\n",
       "      <td>290c77bc529b7ac935b93aa66c333dc3</td>\n",
       "      <td>29150127e6685892b6eab3eec79f59c7</td>\n",
       "      <td>2018-01-12 20:48:24</td>\n",
       "      <td>289.00</td>\n",
       "    </tr>\n",
       "    <tr>\n",
       "      <th>2</th>\n",
       "      <td>060e732b5b29e8181a18229c7b0b2b5e</td>\n",
       "      <td>b2059ed67ce144a36e2aa97d2c9e9ad2</td>\n",
       "      <td>2018-05-19 16:07:45</td>\n",
       "      <td>139.94</td>\n",
       "    </tr>\n",
       "    <tr>\n",
       "      <th>3</th>\n",
       "      <td>259dac757896d24d7702b9acbbff3f3c</td>\n",
       "      <td>951670f92359f4fe4a63112aa7306eba</td>\n",
       "      <td>2018-03-13 16:06:38</td>\n",
       "      <td>149.94</td>\n",
       "    </tr>\n",
       "    <tr>\n",
       "      <th>4</th>\n",
       "      <td>345ecd01c38d18a9036ed96c73b8d066</td>\n",
       "      <td>6b7d50bd145f6fc7f33cebabd7e49d0f</td>\n",
       "      <td>2018-07-29 09:51:30</td>\n",
       "      <td>230.00</td>\n",
       "    </tr>\n",
       "  </tbody>\n",
       "</table>\n",
       "</div>"
      ],
      "text/plain": [
       "                 customer_unique_id                          order_id  \\\n",
       "0  861eff4711a542e4b93843c6dd7febb0  00e7ee1b050b8499577073aeb2a297a1   \n",
       "1  290c77bc529b7ac935b93aa66c333dc3  29150127e6685892b6eab3eec79f59c7   \n",
       "2  060e732b5b29e8181a18229c7b0b2b5e  b2059ed67ce144a36e2aa97d2c9e9ad2   \n",
       "3  259dac757896d24d7702b9acbbff3f3c  951670f92359f4fe4a63112aa7306eba   \n",
       "4  345ecd01c38d18a9036ed96c73b8d066  6b7d50bd145f6fc7f33cebabd7e49d0f   \n",
       "\n",
       "  order_purchase_timestamp   price  \n",
       "0      2017-05-16 15:05:35  124.99  \n",
       "1      2018-01-12 20:48:24  289.00  \n",
       "2      2018-05-19 16:07:45  139.94  \n",
       "3      2018-03-13 16:06:38  149.94  \n",
       "4      2018-07-29 09:51:30  230.00  "
      ]
     },
     "execution_count": 40,
     "metadata": {},
     "output_type": "execute_result"
    }
   ],
   "source": [
    "# оставляю только нужные колонки для удобства\n",
    "\n",
    "olist_rfm = olist_rfm[olist_rfm.order_status == 'delivered']\n",
    "orders_status_rfm = olist_rfm[['customer_unique_id','order_id','order_purchase_timestamp','price']]\n",
    "orders_status_rfm.head()"
   ]
  },
  {
   "cell_type": "code",
   "execution_count": 41,
   "id": "6b23b51e",
   "metadata": {},
   "outputs": [
    {
     "data": {
      "text/plain": [
       "customer_unique_id                  object\n",
       "order_id                            object\n",
       "order_purchase_timestamp    datetime64[ns]\n",
       "price                              float64\n",
       "dtype: object"
      ]
     },
     "execution_count": 41,
     "metadata": {},
     "output_type": "execute_result"
    }
   ],
   "source": [
    "orders_status_rfm.dtypes"
   ]
  },
  {
   "cell_type": "code",
   "execution_count": 42,
   "id": "edc619cb",
   "metadata": {},
   "outputs": [
    {
     "name": "stderr",
     "output_type": "stream",
     "text": [
      "C:\\Temp\\ipykernel_13456\\3242219097.py:1: SettingWithCopyWarning: \n",
      "A value is trying to be set on a copy of a slice from a DataFrame.\n",
      "Try using .loc[row_indexer,col_indexer] = value instead\n",
      "\n",
      "See the caveats in the documentation: https://pandas.pydata.org/pandas-docs/stable/user_guide/indexing.html#returning-a-view-versus-a-copy\n",
      "  orders_status_rfm.order_purchase_timestamp = pd.to_datetime(orders_status_rfm.order_purchase_timestamp)\n"
     ]
    }
   ],
   "source": [
    "orders_status_rfm.order_purchase_timestamp = pd.to_datetime(orders_status_rfm.order_purchase_timestamp)"
   ]
  },
  {
   "cell_type": "code",
   "execution_count": 44,
   "id": "fbefd803",
   "metadata": {},
   "outputs": [
    {
     "name": "stderr",
     "output_type": "stream",
     "text": [
      "C:\\Temp\\ipykernel_13456\\3190704015.py:3: SettingWithCopyWarning: \n",
      "A value is trying to be set on a copy of a slice from a DataFrame.\n",
      "Try using .loc[row_indexer,col_indexer] = value instead\n",
      "\n",
      "See the caveats in the documentation: https://pandas.pydata.org/pandas-docs/stable/user_guide/indexing.html#returning-a-view-versus-a-copy\n",
      "  orders_status_rfm['time_delta'] = orders_status_rfm.order_purchase_timestamp \\\n"
     ]
    },
    {
     "data": {
      "text/html": [
       "<div>\n",
       "<style scoped>\n",
       "    .dataframe tbody tr th:only-of-type {\n",
       "        vertical-align: middle;\n",
       "    }\n",
       "\n",
       "    .dataframe tbody tr th {\n",
       "        vertical-align: top;\n",
       "    }\n",
       "\n",
       "    .dataframe thead th {\n",
       "        text-align: right;\n",
       "    }\n",
       "</style>\n",
       "<table border=\"1\" class=\"dataframe\">\n",
       "  <thead>\n",
       "    <tr style=\"text-align: right;\">\n",
       "      <th></th>\n",
       "      <th>customer_unique_id</th>\n",
       "      <th>order_id</th>\n",
       "      <th>order_purchase_timestamp</th>\n",
       "      <th>price</th>\n",
       "      <th>time_delta</th>\n",
       "    </tr>\n",
       "  </thead>\n",
       "  <tbody>\n",
       "    <tr>\n",
       "      <th>0</th>\n",
       "      <td>861eff4711a542e4b93843c6dd7febb0</td>\n",
       "      <td>00e7ee1b050b8499577073aeb2a297a1</td>\n",
       "      <td>2017-05-16 15:05:35</td>\n",
       "      <td>124.99</td>\n",
       "      <td>-470 days +00:04:58</td>\n",
       "    </tr>\n",
       "    <tr>\n",
       "      <th>1</th>\n",
       "      <td>290c77bc529b7ac935b93aa66c333dc3</td>\n",
       "      <td>29150127e6685892b6eab3eec79f59c7</td>\n",
       "      <td>2018-01-12 20:48:24</td>\n",
       "      <td>289.00</td>\n",
       "      <td>-229 days +05:47:47</td>\n",
       "    </tr>\n",
       "    <tr>\n",
       "      <th>2</th>\n",
       "      <td>060e732b5b29e8181a18229c7b0b2b5e</td>\n",
       "      <td>b2059ed67ce144a36e2aa97d2c9e9ad2</td>\n",
       "      <td>2018-05-19 16:07:45</td>\n",
       "      <td>139.94</td>\n",
       "      <td>-102 days +01:07:08</td>\n",
       "    </tr>\n",
       "    <tr>\n",
       "      <th>3</th>\n",
       "      <td>259dac757896d24d7702b9acbbff3f3c</td>\n",
       "      <td>951670f92359f4fe4a63112aa7306eba</td>\n",
       "      <td>2018-03-13 16:06:38</td>\n",
       "      <td>149.94</td>\n",
       "      <td>-169 days +01:06:01</td>\n",
       "    </tr>\n",
       "    <tr>\n",
       "      <th>4</th>\n",
       "      <td>345ecd01c38d18a9036ed96c73b8d066</td>\n",
       "      <td>6b7d50bd145f6fc7f33cebabd7e49d0f</td>\n",
       "      <td>2018-07-29 09:51:30</td>\n",
       "      <td>230.00</td>\n",
       "      <td>-32 days +18:50:53</td>\n",
       "    </tr>\n",
       "    <tr>\n",
       "      <th>5</th>\n",
       "      <td>4c93744516667ad3b8f1fb645a3116a4</td>\n",
       "      <td>5741ea1f91b5fbab2bd2dc653a5b5099</td>\n",
       "      <td>2017-09-14 18:14:31</td>\n",
       "      <td>259.90</td>\n",
       "      <td>-349 days +03:13:54</td>\n",
       "    </tr>\n",
       "    <tr>\n",
       "      <th>6</th>\n",
       "      <td>addec96d2e059c80c30fe6871d30d177</td>\n",
       "      <td>36e694cf4cbc2a4803200c35e84abdc4</td>\n",
       "      <td>2018-02-19 14:38:35</td>\n",
       "      <td>14.99</td>\n",
       "      <td>-192 days +23:37:58</td>\n",
       "    </tr>\n",
       "    <tr>\n",
       "      <th>7</th>\n",
       "      <td>57b2a98a409812fe9618067b6b8ebe4f</td>\n",
       "      <td>1093c8304c7a003280dd34598194913d</td>\n",
       "      <td>2017-11-16 19:29:02</td>\n",
       "      <td>19.90</td>\n",
       "      <td>-286 days +04:28:25</td>\n",
       "    </tr>\n",
       "    <tr>\n",
       "      <th>8</th>\n",
       "      <td>1175e95fb47ddff9de6b2b06188f7e0d</td>\n",
       "      <td>1ebeea841c590e86a14a0d7a48e7d062</td>\n",
       "      <td>2018-01-18 12:35:44</td>\n",
       "      <td>25.00</td>\n",
       "      <td>-224 days +21:35:07</td>\n",
       "    </tr>\n",
       "    <tr>\n",
       "      <th>9</th>\n",
       "      <td>9afe194fb833f79e300e37e580171f22</td>\n",
       "      <td>7433cbcc783205509d66a5260da5b574</td>\n",
       "      <td>2018-01-08 11:22:34</td>\n",
       "      <td>99.90</td>\n",
       "      <td>-234 days +20:21:57</td>\n",
       "    </tr>\n",
       "  </tbody>\n",
       "</table>\n",
       "</div>"
      ],
      "text/plain": [
       "                 customer_unique_id                          order_id  \\\n",
       "0  861eff4711a542e4b93843c6dd7febb0  00e7ee1b050b8499577073aeb2a297a1   \n",
       "1  290c77bc529b7ac935b93aa66c333dc3  29150127e6685892b6eab3eec79f59c7   \n",
       "2  060e732b5b29e8181a18229c7b0b2b5e  b2059ed67ce144a36e2aa97d2c9e9ad2   \n",
       "3  259dac757896d24d7702b9acbbff3f3c  951670f92359f4fe4a63112aa7306eba   \n",
       "4  345ecd01c38d18a9036ed96c73b8d066  6b7d50bd145f6fc7f33cebabd7e49d0f   \n",
       "5  4c93744516667ad3b8f1fb645a3116a4  5741ea1f91b5fbab2bd2dc653a5b5099   \n",
       "6  addec96d2e059c80c30fe6871d30d177  36e694cf4cbc2a4803200c35e84abdc4   \n",
       "7  57b2a98a409812fe9618067b6b8ebe4f  1093c8304c7a003280dd34598194913d   \n",
       "8  1175e95fb47ddff9de6b2b06188f7e0d  1ebeea841c590e86a14a0d7a48e7d062   \n",
       "9  9afe194fb833f79e300e37e580171f22  7433cbcc783205509d66a5260da5b574   \n",
       "\n",
       "  order_purchase_timestamp   price          time_delta  \n",
       "0      2017-05-16 15:05:35  124.99 -470 days +00:04:58  \n",
       "1      2018-01-12 20:48:24  289.00 -229 days +05:47:47  \n",
       "2      2018-05-19 16:07:45  139.94 -102 days +01:07:08  \n",
       "3      2018-03-13 16:06:38  149.94 -169 days +01:06:01  \n",
       "4      2018-07-29 09:51:30  230.00  -32 days +18:50:53  \n",
       "5      2017-09-14 18:14:31  259.90 -349 days +03:13:54  \n",
       "6      2018-02-19 14:38:35   14.99 -192 days +23:37:58  \n",
       "7      2017-11-16 19:29:02   19.90 -286 days +04:28:25  \n",
       "8      2018-01-18 12:35:44   25.00 -224 days +21:35:07  \n",
       "9      2018-01-08 11:22:34   99.90 -234 days +20:21:57  "
      ]
     },
     "execution_count": 44,
     "metadata": {},
     "output_type": "execute_result"
    }
   ],
   "source": [
    "# Разница между текущей датой и датой последнего заказа\n",
    "\n",
    "orders_status_rfm['time_delta'] = orders_status_rfm.order_purchase_timestamp \\\n",
    "    - orders_status_rfm.order_purchase_timestamp.max()\n",
    "orders_status_rfm.head(10)"
   ]
  }
 ],
 "metadata": {
  "kernelspec": {
   "display_name": "Python 3 (ipykernel)",
   "language": "python",
   "name": "python3"
  },
  "language_info": {
   "codemirror_mode": {
    "name": "ipython",
    "version": 3
   },
   "file_extension": ".py",
   "mimetype": "text/x-python",
   "name": "python",
   "nbconvert_exporter": "python",
   "pygments_lexer": "ipython3",
   "version": "3.9.13"
  }
 },
 "nbformat": 4,
 "nbformat_minor": 5
}
