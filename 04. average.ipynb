{
 "cells": [
  {
   "cell_type": "markdown",
   "id": "51e182e0",
   "metadata": {},
   "source": [
    "## Сколько у каждого из пользователей в среднем покупок в неделю (по месяцам)? Не стоит забывать, что внутри месяца может быть не целое количество недель. Например, в ноябре 2021 года 4,28 недели. И внутри метрики это нужно учесть."
   ]
  },
  {
   "cell_type": "code",
   "execution_count": 21,
   "id": "ec3e74da",
   "metadata": {},
   "outputs": [],
   "source": [
    "# Перевожу дату в название месяца\n",
    "\n",
    "unique_id.order_purchase_timestamp = olist_orders.order_purchase_timestamp.dt.month_name()"
   ]
  },
  {
   "cell_type": "code",
   "execution_count": 22,
   "id": "6f364166",
   "metadata": {},
   "outputs": [],
   "source": [
    "# Считаю сколько недель в месяце\n",
    "\n",
    "unique_id['weeks'] = olist_orders.order_purchase_timestamp.dt.days_in_month / 7"
   ]
  },
  {
   "cell_type": "code",
   "execution_count": 23,
   "id": "a5751807",
   "metadata": {},
   "outputs": [],
   "source": [
    "# Считаю среднее количество успешных заказов\n",
    "\n",
    "weekly_customers = unique_id.query('order_status == \"delivered\"') \\\n",
    "    .groupby(['customer_unique_id','order_purchase_timestamp','weeks'], as_index=False) \\\n",
    "    .agg({'order_status':'count'}) \\\n",
    "    .groupby(['customer_unique_id','order_purchase_timestamp','weeks'],as_index=False) \\\n",
    "    .agg({'order_status':'sum'}) \\\n",
    "    .rename(columns={'order_purchase_timestamp':'month','order_status':'avg_orders'}) "
   ]
  },
  {
   "cell_type": "code",
   "execution_count": 24,
   "id": "3f277770",
   "metadata": {},
   "outputs": [
    {
     "data": {
      "text/html": [
       "<div>\n",
       "<style scoped>\n",
       "    .dataframe tbody tr th:only-of-type {\n",
       "        vertical-align: middle;\n",
       "    }\n",
       "\n",
       "    .dataframe tbody tr th {\n",
       "        vertical-align: top;\n",
       "    }\n",
       "\n",
       "    .dataframe thead th {\n",
       "        text-align: right;\n",
       "    }\n",
       "</style>\n",
       "<table border=\"1\" class=\"dataframe\">\n",
       "  <thead>\n",
       "    <tr style=\"text-align: right;\">\n",
       "      <th></th>\n",
       "      <th>customer_unique_id</th>\n",
       "      <th>month</th>\n",
       "      <th>weeks</th>\n",
       "      <th>avg_orders</th>\n",
       "    </tr>\n",
       "  </thead>\n",
       "  <tbody>\n",
       "    <tr>\n",
       "      <th>0</th>\n",
       "      <td>0000366f3b9a7992bf8c76cfdf3221e2</td>\n",
       "      <td>May</td>\n",
       "      <td>4.428571</td>\n",
       "      <td>1</td>\n",
       "    </tr>\n",
       "    <tr>\n",
       "      <th>1</th>\n",
       "      <td>0000b849f77a49e4a4ce2b2a4ca5be3f</td>\n",
       "      <td>May</td>\n",
       "      <td>4.428571</td>\n",
       "      <td>1</td>\n",
       "    </tr>\n",
       "    <tr>\n",
       "      <th>2</th>\n",
       "      <td>0000f46a3911fa3c0805444483337064</td>\n",
       "      <td>March</td>\n",
       "      <td>4.428571</td>\n",
       "      <td>1</td>\n",
       "    </tr>\n",
       "    <tr>\n",
       "      <th>3</th>\n",
       "      <td>0000f6ccb0745a6a4b88665a16c9f078</td>\n",
       "      <td>October</td>\n",
       "      <td>4.428571</td>\n",
       "      <td>1</td>\n",
       "    </tr>\n",
       "    <tr>\n",
       "      <th>4</th>\n",
       "      <td>0004aac84e0df4da2b147fca70cf8255</td>\n",
       "      <td>November</td>\n",
       "      <td>4.285714</td>\n",
       "      <td>1</td>\n",
       "    </tr>\n",
       "  </tbody>\n",
       "</table>\n",
       "</div>"
      ],
      "text/plain": [
       "                 customer_unique_id     month     weeks  avg_orders\n",
       "0  0000366f3b9a7992bf8c76cfdf3221e2       May  4.428571           1\n",
       "1  0000b849f77a49e4a4ce2b2a4ca5be3f       May  4.428571           1\n",
       "2  0000f46a3911fa3c0805444483337064     March  4.428571           1\n",
       "3  0000f6ccb0745a6a4b88665a16c9f078   October  4.428571           1\n",
       "4  0004aac84e0df4da2b147fca70cf8255  November  4.285714           1"
      ]
     },
     "execution_count": 24,
     "metadata": {},
     "output_type": "execute_result"
    }
   ],
   "source": [
    "weekly_customers.head()"
   ]
  },
  {
   "cell_type": "code",
   "execution_count": 25,
   "id": "95fb379f",
   "metadata": {},
   "outputs": [],
   "source": [
    "# Считаю среднее количество покупок в неделю (по месяцам)\n",
    "\n",
    "weekly_customers.avg_orders = weekly_customers.avg_orders / weekly_customers.weeks"
   ]
  },
  {
   "cell_type": "code",
   "execution_count": 26,
   "id": "a4c0c362",
   "metadata": {},
   "outputs": [
    {
     "data": {
      "text/html": [
       "<div>\n",
       "<style scoped>\n",
       "    .dataframe tbody tr th:only-of-type {\n",
       "        vertical-align: middle;\n",
       "    }\n",
       "\n",
       "    .dataframe tbody tr th {\n",
       "        vertical-align: top;\n",
       "    }\n",
       "\n",
       "    .dataframe thead th {\n",
       "        text-align: right;\n",
       "    }\n",
       "</style>\n",
       "<table border=\"1\" class=\"dataframe\">\n",
       "  <thead>\n",
       "    <tr style=\"text-align: right;\">\n",
       "      <th></th>\n",
       "      <th>customer_unique_id</th>\n",
       "      <th>month</th>\n",
       "      <th>weeks</th>\n",
       "      <th>avg_orders</th>\n",
       "    </tr>\n",
       "  </thead>\n",
       "  <tbody>\n",
       "    <tr>\n",
       "      <th>0</th>\n",
       "      <td>0000366f3b9a7992bf8c76cfdf3221e2</td>\n",
       "      <td>May</td>\n",
       "      <td>4.428571</td>\n",
       "      <td>0.225806</td>\n",
       "    </tr>\n",
       "    <tr>\n",
       "      <th>1</th>\n",
       "      <td>0000b849f77a49e4a4ce2b2a4ca5be3f</td>\n",
       "      <td>May</td>\n",
       "      <td>4.428571</td>\n",
       "      <td>0.225806</td>\n",
       "    </tr>\n",
       "    <tr>\n",
       "      <th>2</th>\n",
       "      <td>0000f46a3911fa3c0805444483337064</td>\n",
       "      <td>March</td>\n",
       "      <td>4.428571</td>\n",
       "      <td>0.225806</td>\n",
       "    </tr>\n",
       "    <tr>\n",
       "      <th>3</th>\n",
       "      <td>0000f6ccb0745a6a4b88665a16c9f078</td>\n",
       "      <td>October</td>\n",
       "      <td>4.428571</td>\n",
       "      <td>0.225806</td>\n",
       "    </tr>\n",
       "    <tr>\n",
       "      <th>4</th>\n",
       "      <td>0004aac84e0df4da2b147fca70cf8255</td>\n",
       "      <td>November</td>\n",
       "      <td>4.285714</td>\n",
       "      <td>0.233333</td>\n",
       "    </tr>\n",
       "  </tbody>\n",
       "</table>\n",
       "</div>"
      ],
      "text/plain": [
       "                 customer_unique_id     month     weeks  avg_orders\n",
       "0  0000366f3b9a7992bf8c76cfdf3221e2       May  4.428571    0.225806\n",
       "1  0000b849f77a49e4a4ce2b2a4ca5be3f       May  4.428571    0.225806\n",
       "2  0000f46a3911fa3c0805444483337064     March  4.428571    0.225806\n",
       "3  0000f6ccb0745a6a4b88665a16c9f078   October  4.428571    0.225806\n",
       "4  0004aac84e0df4da2b147fca70cf8255  November  4.285714    0.233333"
      ]
     },
     "execution_count": 26,
     "metadata": {},
     "output_type": "execute_result"
    }
   ],
   "source": [
    "weekly_customers.head()"
   ]
  }
 ],
 "metadata": {
  "kernelspec": {
   "display_name": "Python 3 (ipykernel)",
   "language": "python",
   "name": "python3"
  },
  "language_info": {
   "codemirror_mode": {
    "name": "ipython",
    "version": 3
   },
   "file_extension": ".py",
   "mimetype": "text/x-python",
   "name": "python",
   "nbconvert_exporter": "python",
   "pygments_lexer": "ipython3",
   "version": "3.9.13"
  }
 },
 "nbformat": 4,
 "nbformat_minor": 5
}
