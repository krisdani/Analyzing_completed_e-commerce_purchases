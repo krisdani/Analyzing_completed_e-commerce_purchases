{
 "cells": [
  {
   "cell_type": "code",
   "execution_count": 9,
   "id": "560a46c5",
   "metadata": {},
   "outputs": [
    {
     "data": {
      "text/plain": [
       "90556"
      ]
     },
     "execution_count": 9,
     "metadata": {},
     "output_type": "execute_result"
    }
   ],
   "source": [
    "# Беру завершенные заказы по пользователям, при этом заказ должен быть один\n",
    "\n",
    "unique_id.loc[unique_id['order_status'] == 'delivered'] \\\n",
    "    .groupby('customer_unique_id',as_index=False) \\\n",
    "    .agg({'order_id':'count'}) \\\n",
    "    .query('order_id == 1') \\\n",
    "    .count().order_id"
   ]
  },
  {
   "cell_type": "markdown",
   "id": "7a26332d",
   "metadata": {},
   "source": [
    "Получаю ответ: 90556.\n",
    "    \n",
    "То есть 90556 пользователей совершили покупку только один раз."
   ]
  },
  {
   "cell_type": "markdown",
   "id": "deca7a9b",
   "metadata": {},
   "source": [
    "## Сколько заказов в месяц в среднем не доставляется по разным причинам (вывести детализацию по причинам)?"
   ]
  },
  {
   "cell_type": "code",
   "execution_count": 10,
   "id": "31a1a4f2",
   "metadata": {},
   "outputs": [
    {
     "data": {
      "text/plain": [
       "array([1], dtype=int64)"
      ]
     },
     "execution_count": 10,
     "metadata": {},
     "output_type": "execute_result"
    }
   ],
   "source": [
    "# Сначала нужно проверить таблицу на наличие дублей в колонке статуса заказа\n",
    "\n",
    "olist_orders.groupby('order_id', as_index=False)\\\n",
    "    .agg({'order_status':'count'}) \\\n",
    "    .order_status.unique() "
   ]
  },
  {
   "cell_type": "code",
   "execution_count": 11,
   "id": "1779f970",
   "metadata": {},
   "outputs": [
    {
     "data": {
      "text/plain": [
       "order_id                         object\n",
       "customer_id                      object\n",
       "order_status                     object\n",
       "order_purchase_timestamp         object\n",
       "order_approved_at                object\n",
       "order_delivered_carrier_date     object\n",
       "order_delivered_customer_date    object\n",
       "order_estimated_delivery_date    object\n",
       "dtype: object"
      ]
     },
     "execution_count": 11,
     "metadata": {},
     "output_type": "execute_result"
    }
   ],
   "source": [
    "# Проверяю типы колонок в таблице\n",
    "\n",
    "olist_orders.dtypes"
   ]
  },
  {
   "cell_type": "code",
   "execution_count": 12,
   "id": "d41e1746",
   "metadata": {},
   "outputs": [],
   "source": [
    "# Привожу колонку к формату datetime\n",
    "\n",
    "olist_orders.order_purchase_timestamp = pd.to_datetime(olist_orders.order_purchase_timestamp) "
   ]
  },
  {
   "cell_type": "code",
   "execution_count": 13,
   "id": "d8afa3e5",
   "metadata": {},
   "outputs": [
    {
     "data": {
      "text/plain": [
       "order_id                                 object\n",
       "customer_id                              object\n",
       "order_status                             object\n",
       "order_purchase_timestamp         datetime64[ns]\n",
       "order_approved_at                        object\n",
       "order_delivered_carrier_date             object\n",
       "order_delivered_customer_date            object\n",
       "order_estimated_delivery_date            object\n",
       "dtype: object"
      ]
     },
     "execution_count": 13,
     "metadata": {},
     "output_type": "execute_result"
    }
   ],
   "source": [
    "# Проверяю еще раз\n",
    "\n",
    "olist_orders.dtypes"
   ]
  },
  {
   "cell_type": "code",
   "execution_count": 14,
   "id": "23f1f504",
   "metadata": {},
   "outputs": [],
   "source": [
    "# Ищеу среднее в недоставленных заказах\n",
    "\n",
    "avg_cancel_orders = olist_orders.query('order_status != \"delivered\"')\\\n",
    "    .groupby([pd.Grouper(freq='MS', key='order_purchase_timestamp'),'order_status'],as_index=False) \\\n",
    "    .agg({'order_id':'count'}) \\\n",
    "    .groupby('order_status',as_index=False)\\\n",
    "    .agg({'order_id':'mean'}) \\\n",
    "    .rename(columns={'order_id':'avg_value'})"
   ]
  },
  {
   "cell_type": "code",
   "execution_count": 15,
   "id": "fdec29f4",
   "metadata": {},
   "outputs": [
    {
     "data": {
      "text/html": [
       "<div>\n",
       "<style scoped>\n",
       "    .dataframe tbody tr th:only-of-type {\n",
       "        vertical-align: middle;\n",
       "    }\n",
       "\n",
       "    .dataframe tbody tr th {\n",
       "        vertical-align: top;\n",
       "    }\n",
       "\n",
       "    .dataframe thead th {\n",
       "        text-align: right;\n",
       "    }\n",
       "</style>\n",
       "<table border=\"1\" class=\"dataframe\">\n",
       "  <thead>\n",
       "    <tr style=\"text-align: right;\">\n",
       "      <th></th>\n",
       "      <th>order_status</th>\n",
       "      <th>avg_value</th>\n",
       "    </tr>\n",
       "  </thead>\n",
       "  <tbody>\n",
       "    <tr>\n",
       "      <th>0</th>\n",
       "      <td>approved</td>\n",
       "      <td>1.000000</td>\n",
       "    </tr>\n",
       "    <tr>\n",
       "      <th>1</th>\n",
       "      <td>canceled</td>\n",
       "      <td>26.041667</td>\n",
       "    </tr>\n",
       "    <tr>\n",
       "      <th>2</th>\n",
       "      <td>created</td>\n",
       "      <td>1.666667</td>\n",
       "    </tr>\n",
       "    <tr>\n",
       "      <th>3</th>\n",
       "      <td>invoiced</td>\n",
       "      <td>14.952381</td>\n",
       "    </tr>\n",
       "    <tr>\n",
       "      <th>4</th>\n",
       "      <td>processing</td>\n",
       "      <td>15.842105</td>\n",
       "    </tr>\n",
       "    <tr>\n",
       "      <th>5</th>\n",
       "      <td>shipped</td>\n",
       "      <td>48.130435</td>\n",
       "    </tr>\n",
       "    <tr>\n",
       "      <th>6</th>\n",
       "      <td>unavailable</td>\n",
       "      <td>29.000000</td>\n",
       "    </tr>\n",
       "  </tbody>\n",
       "</table>\n",
       "</div>"
      ],
      "text/plain": [
       "  order_status  avg_value\n",
       "0     approved   1.000000\n",
       "1     canceled  26.041667\n",
       "2      created   1.666667\n",
       "3     invoiced  14.952381\n",
       "4   processing  15.842105\n",
       "5      shipped  48.130435\n",
       "6  unavailable  29.000000"
      ]
     },
     "execution_count": 15,
     "metadata": {},
     "output_type": "execute_result"
    }
   ],
   "source": [
    "# Вывожу полученную таблицу\n",
    "\n",
    "avg_cancel_orders"
   ]
  },
  {
   "cell_type": "code",
   "execution_count": 16,
   "id": "9359e0a0",
   "metadata": {},
   "outputs": [
    {
     "data": {
      "image/png": "[encoded data removed]",
      "text/plain": [
       "<Figure size 1000x800 with 1 Axes>"
      ]
     },
     "metadata": {},
     "output_type": "display_data"
    }
   ],
   "source": [
    "# Создаю цвета в графике\n",
    "colors = {\n",
    "    'canceled': 'green',\n",
    "    'unavailable': 'red',\n",
    "    'invoiced': 'blue',\n",
    "    'created': 'purple',\n",
    "    'approved': 'orange',\n",
    "    'processing': 'gray',\n",
    "    'shipped': 'pink',\n",
    "}\n",
    "\n",
    "# Строю диаграмму\n",
    "fig, ax = plt.subplots(figsize=(10,8))\n",
    "for i in range(len(avg_cancel_orders)):\n",
    "    status = avg_cancel_orders['order_status'][i]\n",
    "    value = avg_cancel_orders['avg_value'][i]\n",
    "    color = colors[status]\n",
    "    ax.bar(status, value, color=color, label=status)\n",
    "\n",
    "ax.set_xlabel('Причина')\n",
    "ax.set_ylabel('Среднее количество заказов')\n",
    "ax.legend()\n",
    "\n",
    "plt.show()"
   ]
  },
  {
   "cell_type": "markdown",
   "id": "798595a5",
   "metadata": {},
   "source": [
    "Детализация по причинам:\n",
    "\n",
    "больше всего отменено покупок из-за ошибки сервиса доставки (shipped) - 48,13% \n",
    "на втором месте (approved, created, invoiced, canceled) - отмена заказа на разных этапах заказчиком - 42,66%\n",
    "далее - это причина отсутствия товара (unavailable) - 29%\n",
    "и системный сбой (processing) - 15,84%."
   ]
  }
 ],
 "metadata": {
  "kernelspec": {
   "display_name": "Python 3 (ipykernel)",
   "language": "python",
   "name": "python3"
  },
  "language_info": {
   "codemirror_mode": {
    "name": "ipython",
    "version": 3
   },
   "file_extension": ".py",
   "mimetype": "text/x-python",
   "name": "python",
   "nbconvert_exporter": "python",
   "pygments_lexer": "ipython3",
   "version": "3.9.13"
  }
 },
 "nbformat": 4,
 "nbformat_minor": 5
}
