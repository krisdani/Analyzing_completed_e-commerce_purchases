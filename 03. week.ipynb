{
 "cells": [
  {
   "cell_type": "markdown",
   "id": "1fcbc6f3",
   "metadata": {},
   "source": [
    "## По каждому товару определить, в какой день недели товар чаще всего покупается."
   ]
  },
  {
   "cell_type": "code",
   "execution_count": 12,
   "id": "2d7afcaa",
   "metadata": {},
   "outputs": [],
   "source": [
    "# Соединяю таблицу заказов и таблицу с товарными позициями\n",
    "\n",
    "orders_and_items = olist_orders.merge(olist_items, how='left',on='order_id') \\\n",
    "    [['product_id','order_purchase_timestamp','order_status']]"
   ]
  },
  {
   "cell_type": "code",
   "execution_count": 13,
   "id": "e0af54bb",
   "metadata": {},
   "outputs": [
    {
     "data": {
      "text/plain": [
       "0   2017-10-02 10:56:33\n",
       "1   2018-07-24 20:41:37\n",
       "2   2018-08-08 08:38:49\n",
       "3   2017-11-18 19:28:06\n",
       "4   2018-02-13 21:18:39\n",
       "Name: order_purchase_timestamp, dtype: datetime64[ns]"
      ]
     },
     "execution_count": 13,
     "metadata": {},
     "output_type": "execute_result"
    }
   ],
   "source": [
    "# Проверяю колонку\n",
    "\n",
    "orders_and_items.order_purchase_timestamp.head()"
   ]
  },
  {
   "cell_type": "code",
   "execution_count": 14,
   "id": "0f410664",
   "metadata": {},
   "outputs": [],
   "source": [
    "# Делаю в колонке дни недели вместо даты\n",
    "\n",
    "orders_and_items.order_purchase_timestamp = olist_orders.order_purchase_timestamp.dt.day_name()"
   ]
  },
  {
   "cell_type": "code",
   "execution_count": 15,
   "id": "66850afc",
   "metadata": {},
   "outputs": [
    {
     "data": {
      "text/plain": [
       "0       Monday\n",
       "1      Tuesday\n",
       "2    Wednesday\n",
       "3     Saturday\n",
       "4      Tuesday\n",
       "Name: order_purchase_timestamp, dtype: object"
      ]
     },
     "execution_count": 15,
     "metadata": {},
     "output_type": "execute_result"
    }
   ],
   "source": [
    "orders_and_items.order_purchase_timestamp.head()"
   ]
  },
  {
   "cell_type": "code",
   "execution_count": 16,
   "id": "e26fe99b",
   "metadata": {},
   "outputs": [],
   "source": [
    "# Дропаю пропущенные данные\n",
    "\n",
    "orders_and_items = orders_and_items.dropna()"
   ]
  },
  {
   "cell_type": "code",
   "execution_count": 18,
   "id": "ca82b164",
   "metadata": {},
   "outputs": [
    {
     "data": {
      "text/html": [
       "<div>\n",
       "<style scoped>\n",
       "    .dataframe tbody tr th:only-of-type {\n",
       "        vertical-align: middle;\n",
       "    }\n",
       "\n",
       "    .dataframe tbody tr th {\n",
       "        vertical-align: top;\n",
       "    }\n",
       "\n",
       "    .dataframe thead th {\n",
       "        text-align: right;\n",
       "    }\n",
       "</style>\n",
       "<table border=\"1\" class=\"dataframe\">\n",
       "  <thead>\n",
       "    <tr style=\"text-align: right;\">\n",
       "      <th></th>\n",
       "      <th>product_id</th>\n",
       "      <th>order_purchase_timestamp</th>\n",
       "      <th>order_status</th>\n",
       "    </tr>\n",
       "  </thead>\n",
       "  <tbody>\n",
       "    <tr>\n",
       "      <th>0</th>\n",
       "      <td>87285b34884572647811a353c7ac498a</td>\n",
       "      <td>Monday</td>\n",
       "      <td>delivered</td>\n",
       "    </tr>\n",
       "    <tr>\n",
       "      <th>1</th>\n",
       "      <td>595fac2a385ac33a80bd5114aec74eb8</td>\n",
       "      <td>Tuesday</td>\n",
       "      <td>delivered</td>\n",
       "    </tr>\n",
       "    <tr>\n",
       "      <th>2</th>\n",
       "      <td>aa4383b373c6aca5d8797843e5594415</td>\n",
       "      <td>Wednesday</td>\n",
       "      <td>delivered</td>\n",
       "    </tr>\n",
       "    <tr>\n",
       "      <th>3</th>\n",
       "      <td>d0b61bfb1de832b15ba9d266ca96e5b0</td>\n",
       "      <td>Saturday</td>\n",
       "      <td>delivered</td>\n",
       "    </tr>\n",
       "    <tr>\n",
       "      <th>4</th>\n",
       "      <td>65266b2da20d04dbe00c5c2d3bb7859e</td>\n",
       "      <td>Tuesday</td>\n",
       "      <td>delivered</td>\n",
       "    </tr>\n",
       "  </tbody>\n",
       "</table>\n",
       "</div>"
      ],
      "text/plain": [
       "                         product_id order_purchase_timestamp order_status\n",
       "0  87285b34884572647811a353c7ac498a                   Monday    delivered\n",
       "1  595fac2a385ac33a80bd5114aec74eb8                  Tuesday    delivered\n",
       "2  aa4383b373c6aca5d8797843e5594415                Wednesday    delivered\n",
       "3  d0b61bfb1de832b15ba9d266ca96e5b0                 Saturday    delivered\n",
       "4  65266b2da20d04dbe00c5c2d3bb7859e                  Tuesday    delivered"
      ]
     },
     "execution_count": 18,
     "metadata": {},
     "output_type": "execute_result"
    }
   ],
   "source": [
    "orders_and_items.head()"
   ]
  },
  {
   "cell_type": "code",
   "execution_count": 19,
   "id": "2429d464",
   "metadata": {},
   "outputs": [],
   "source": [
    "# Группирую по дням недели и указываю, что товар куплен\n",
    "    \n",
    "id_day = orders_and_items.query('order_status == \"delivered\"') \\\n",
    "    .groupby(['product_id','order_purchase_timestamp'],as_index=False) \\\n",
    "    .agg({'order_status':'count'}) \\\n",
    "    .drop_duplicates(subset=[\"product_id\"], keep='first') \\\n",
    "    [['product_id','order_purchase_timestamp']]"
   ]
  },
  {
   "cell_type": "code",
   "execution_count": 20,
   "id": "bfd37e55",
   "metadata": {},
   "outputs": [
    {
     "data": {
      "text/html": [
       "<div>\n",
       "<style scoped>\n",
       "    .dataframe tbody tr th:only-of-type {\n",
       "        vertical-align: middle;\n",
       "    }\n",
       "\n",
       "    .dataframe tbody tr th {\n",
       "        vertical-align: top;\n",
       "    }\n",
       "\n",
       "    .dataframe thead th {\n",
       "        text-align: right;\n",
       "    }\n",
       "</style>\n",
       "<table border=\"1\" class=\"dataframe\">\n",
       "  <thead>\n",
       "    <tr style=\"text-align: right;\">\n",
       "      <th></th>\n",
       "      <th>product_id</th>\n",
       "      <th>order_purchase_timestamp</th>\n",
       "    </tr>\n",
       "  </thead>\n",
       "  <tbody>\n",
       "    <tr>\n",
       "      <th>0</th>\n",
       "      <td>0009406fd7479715e4bef61dd91f2462</td>\n",
       "      <td>Tuesday</td>\n",
       "    </tr>\n",
       "    <tr>\n",
       "      <th>1</th>\n",
       "      <td>000b8f95fcb9e0096488278317764d19</td>\n",
       "      <td>Friday</td>\n",
       "    </tr>\n",
       "    <tr>\n",
       "      <th>2</th>\n",
       "      <td>000d9be29b5207b54e86aa1b1ac54872</td>\n",
       "      <td>Monday</td>\n",
       "    </tr>\n",
       "    <tr>\n",
       "      <th>3</th>\n",
       "      <td>0011c512eb256aa0dbbb544d8dffcf6e</td>\n",
       "      <td>Saturday</td>\n",
       "    </tr>\n",
       "    <tr>\n",
       "      <th>4</th>\n",
       "      <td>00126f27c813603687e6ce486d909d01</td>\n",
       "      <td>Monday</td>\n",
       "    </tr>\n",
       "    <tr>\n",
       "      <th>...</th>\n",
       "      <td>...</td>\n",
       "      <td>...</td>\n",
       "    </tr>\n",
       "    <tr>\n",
       "      <th>57752</th>\n",
       "      <td>fff6177642830a9a94a0f2cba5e476d1</td>\n",
       "      <td>Friday</td>\n",
       "    </tr>\n",
       "    <tr>\n",
       "      <th>57754</th>\n",
       "      <td>fff81cc3158d2725c0655ab9ba0f712c</td>\n",
       "      <td>Saturday</td>\n",
       "    </tr>\n",
       "    <tr>\n",
       "      <th>57755</th>\n",
       "      <td>fff9553ac224cec9d15d49f5a263411f</td>\n",
       "      <td>Saturday</td>\n",
       "    </tr>\n",
       "    <tr>\n",
       "      <th>57756</th>\n",
       "      <td>fffdb2d0ec8d6a61f0a0a0db3f25b441</td>\n",
       "      <td>Monday</td>\n",
       "    </tr>\n",
       "    <tr>\n",
       "      <th>57759</th>\n",
       "      <td>fffe9eeff12fcbd74a2f2b007dde0c58</td>\n",
       "      <td>Tuesday</td>\n",
       "    </tr>\n",
       "  </tbody>\n",
       "</table>\n",
       "<p>29786 rows × 2 columns</p>\n",
       "</div>"
      ],
      "text/plain": [
       "                             product_id order_purchase_timestamp\n",
       "0      0009406fd7479715e4bef61dd91f2462                  Tuesday\n",
       "1      000b8f95fcb9e0096488278317764d19                   Friday\n",
       "2      000d9be29b5207b54e86aa1b1ac54872                   Monday\n",
       "3      0011c512eb256aa0dbbb544d8dffcf6e                 Saturday\n",
       "4      00126f27c813603687e6ce486d909d01                   Monday\n",
       "...                                 ...                      ...\n",
       "57752  fff6177642830a9a94a0f2cba5e476d1                   Friday\n",
       "57754  fff81cc3158d2725c0655ab9ba0f712c                 Saturday\n",
       "57755  fff9553ac224cec9d15d49f5a263411f                 Saturday\n",
       "57756  fffdb2d0ec8d6a61f0a0a0db3f25b441                   Monday\n",
       "57759  fffe9eeff12fcbd74a2f2b007dde0c58                  Tuesday\n",
       "\n",
       "[29786 rows x 2 columns]"
      ]
     },
     "execution_count": 20,
     "metadata": {},
     "output_type": "execute_result"
    }
   ],
   "source": [
    "# Вывожу таблицу с id товара и днем недели, в который этот товар чаще покупается\n",
    "\n",
    "id_day"
   ]
  }
 ],
 "metadata": {
  "kernelspec": {
   "display_name": "Python 3 (ipykernel)",
   "language": "python",
   "name": "python3"
  },
  "language_info": {
   "codemirror_mode": {
    "name": "ipython",
    "version": 3
   },
   "file_extension": ".py",
   "mimetype": "text/x-python",
   "name": "python",
   "nbconvert_exporter": "python",
   "pygments_lexer": "ipython3",
   "version": "3.9.13"
  }
 },
 "nbformat": 4,
 "nbformat_minor": 5
}
